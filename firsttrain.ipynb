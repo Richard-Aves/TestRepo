{
 "cells": [
  {
   "cell_type": "markdown",
   "id": "3365763b",
   "metadata": {},
   "source": [
    "Node"
   ]
  },
  {
   "cell_type": "markdown",
   "id": "0ee45ff8",
   "metadata": {},
   "source": [
    "this is a simple notebook"
   ]
  },
  {
   "cell_type": "markdown",
   "id": "2243b1cc",
   "metadata": {},
   "source": [
    "python SQL"
   ]
  },
  {
   "cell_type": "markdown",
   "id": "d053dc4d",
   "metadata": {},
   "source": [
    "Numpy Pandas"
   ]
  },
  {
   "cell_type": "markdown",
   "id": "c170c280",
   "metadata": {},
   "source": [
    "RStudio"
   ]
  },
  {
   "cell_type": "markdown",
   "id": "f9c9ed15",
   "metadata": {},
   "source": [
    "logic regression"
   ]
  },
  {
   "cell_type": "code",
   "execution_count": 3,
   "id": "bee7a36a",
   "metadata": {
    "collapsed": false
   },
   "outputs": [
    {
     "data": {
      "text/plain": [
       "135"
      ]
     },
     "execution_count": 3,
     "metadata": {},
     "output_type": "execute_result"
    }
   ],
   "source": [
    "(20+7)*5"
   ]
  },
  {
   "cell_type": "code",
   "execution_count": 10,
   "id": "87faddbc",
   "metadata": {
    "collapsed": true
   },
   "outputs": [],
   "source": [
    "def f(minutes):\n",
    "    y=minutes//60+minutes%60/60;\n",
    "    return y"
   ]
  },
  {
   "cell_type": "code",
   "execution_count": 11,
   "id": "9f86ad3f",
   "metadata": {
    "collapsed": false
   },
   "outputs": [
    {
     "data": {
      "text/plain": [
       "6.333333333333333"
      ]
     },
     "execution_count": 11,
     "metadata": {},
     "output_type": "execute_result"
    }
   ],
   "source": [
    "f(380)"
   ]
  },
  {
   "cell_type": "markdown",
   "id": "b89863ea",
   "metadata": {},
   "source": [
    "1. **Understand the basics of Python programming.**\n",
    "2. **Learn how to manipulate data using Python libraries.**\n",
    "3. **Master data analysis techniques.**\n",
    "4. **Develop skills in data visualization.**\n",
    "5. **Gain proficiency in machine learning and artificial intelligence concepts.**\n",
    "6. **Implement and deploy machine learning models.**\n",
    "7. **Understand the principles of web scraping and API integration.**\n",
    "8. **Learn how to build and deploy web applications using Python.**\n",
    "9. **Explore advanced topics in Python such as asynchronous programming and parallel processing.**\n",
    "10. **Develop a strong understanding of Python best practices and performance optimization techniques.**"
   ]
  },
  {
   "cell_type": "markdown",
   "id": "7dbfdb5c",
   "metadata": {},
   "source": [
    "wang"
   ]
  },
  {
   "cell_type": "code",
   "execution_count": null,
   "id": "3f1f8f09",
   "metadata": {
    "collapsed": true
   },
   "outputs": [],
   "source": []
  }
 ],
 "metadata": {
  "kernelspec": {
   "display_name": "Python 3",
   "language": "python",
   "name": "python3"
  },
  "language_info": {
   "codemirror_mode": {
    "name": "ipython",
    "version": 3
   },
   "file_extension": ".py",
   "mimetype": "text/x-python",
   "name": "python",
   "nbconvert_exporter": "python",
   "pygments_lexer": "ipython3",
   "version": "3.6.15"
  }
 },
 "nbformat": 4,
 "nbformat_minor": 5
}
